{
 "cells": [
  {
   "cell_type": "code",
   "execution_count": 6,
   "metadata": {},
   "outputs": [
    {
     "name": "stdout",
     "output_type": "stream",
     "text": [
      "Twinkle,twinkle little star,\n",
      "\tHow I wonder what yo are!\n",
      "\t\tUp above the world so high,\n",
      "\t\tlike a diamond in the sky.\n",
      "Twinkle,twinkle little star,\n",
      "\tHow I wonder what yo are\n"
     ]
    }
   ],
   "source": [
    "print(\"Twinkle,twinkle little star,\\n\\tHow I wonder what yo are!\\n\\t\\tUp above the world so high,\\n\\t\\tLike a diamond in the sky.\\nTwinkle,twinkle little star,\\n\\tHow I wonder what you are\")"
   ]
  },
  {
   "cell_type": "code",
   "execution_count": 10,
   "metadata": {},
   "outputs": [
    {
     "name": "stdout",
     "output_type": "stream",
     "text": [
      "Python version 3.8.3 (default, Jul  2 2020, 17:30:36) [MSC v.1916 64 bit (AMD64)]\n"
     ]
    }
   ],
   "source": [
    "import sys\n",
    "print(\"Python version::\",sys.version);"
   ]
  },
  {
   "cell_type": "code",
   "execution_count": 1,
   "metadata": {},
   "outputs": [
    {
     "name": "stdout",
     "output_type": "stream",
     "text": [
      "Current date & time:: 2021-10-22 16:51:11.074259\n"
     ]
    }
   ],
   "source": [
    "from datetime import datetime\n",
    "current = datetime.now();\n",
    "print(\"Current date & time::\", current);"
   ]
  },
  {
   "cell_type": "code",
   "execution_count": 21,
   "metadata": {},
   "outputs": [
    {
     "name": "stdout",
     "output_type": "stream",
     "text": [
      "Enter radius of a circle::9\n",
      "254.34\n"
     ]
    }
   ],
   "source": [
    "π= 3.14 ;\n",
    "r=float(input(\"Enter radius of a circle::\"))\n",
    "A=π*r*r;\n",
    "print(A);\n"
   ]
  },
  {
   "cell_type": "code",
   "execution_count": 25,
   "metadata": {},
   "outputs": [
    {
     "name": "stdout",
     "output_type": "stream",
     "text": [
      "Enter first name:: yumna\n",
      "Enter last name:: waheed\n",
      "Full name is:: waheed yumna\n"
     ]
    }
   ],
   "source": [
    "firstname=(input(\"Enter first name:: \"));\n",
    "lastname=(input(\"Enter last name:: \"));\n",
    "print(\"Name is::\", lastname+\" \"+firstname);\n"
   ]
  },
  {
   "cell_type": "code",
   "execution_count": 24,
   "metadata": {},
   "outputs": [
    {
     "name": "stdout",
     "output_type": "stream",
     "text": [
      "Enter number 1=30\n",
      "Enter number 2=-4\n",
      "Additon is= 26\n"
     ]
    }
   ],
   "source": [
    "a=int(input(\"Enter number 1=\"));\n",
    "b=int(input(\"Enter number 2=\"));\n",
    "add=a+b;\n",
    "print(\"Additon is=\", add);"
   ]
  },
  {
   "cell_type": "code",
   "execution_count": 2,
   "metadata": {},
   "outputs": [
    {
     "name": "stdout",
     "output_type": "stream",
     "text": [
      "Enter English marks=89\n",
      "Enter Math marks=78\n",
      "Enter Urdu marks=56\n",
      "Enter Islamiat marks=98\n",
      "Enter Python marks=76\n",
      "Total is:: 397\n",
      "Grade B+\n"
     ]
    }
   ],
   "source": [
    "English=int(input(\"Enter English marks=\"));\n",
    "Math=int(input(\"Enter Math marks=\"));\n",
    "Urdu=int(input(\"Enter Urdu marks=\"));\n",
    "Islamiat=int(input(\"Enter Islamiat marks=\"));\n",
    "Python=int(input(\"Enter Python marks=\"));\n",
    "total=English+Math+Urdu+Islamiat+Python;\n",
    "print(\"Total is::\", total);\n",
    "\n",
    "if total>450 and total<=500:\n",
    "    print(\"Grade A+\");\n",
    "elif total>400 and total<=450:\n",
    "    print(\"Grade A\");\n",
    "elif total>350 and total<=400:\n",
    "    print(\"Grade B+\");\n",
    "elif total>300 and total<=350:\n",
    "    print(\"Grade B\");\n",
    "elif total>250 and total<=300:\n",
    "    print(\"Grade C+\");\n",
    "elif total>200 and total<=250:\n",
    "    print(\"Grade C\");\n",
    "elif total>150 and total<=200:\n",
    "    print(\"Grade D+\");\n",
    "elif total>100 and total<=150:\n",
    "    print(\"Grade D+\");\n",
    "else:\n",
    "    print(\"Fail\");"
   ]
  },
  {
   "cell_type": "code",
   "execution_count": 12,
   "metadata": {},
   "outputs": [
    {
     "name": "stdout",
     "output_type": "stream",
     "text": [
      "Enter number6\n",
      "it's an Even Number\n"
     ]
    }
   ],
   "source": [
    "n=int(input(\"Enter number\"));\n",
    "if(n%2==0):\n",
    "    print(\"it's an Even Number\");\n",
    "else:\n",
    "    print(\"it's an Odd Number\");\n",
    "\n"
   ]
  },
  {
   "cell_type": "code",
   "execution_count": 17,
   "metadata": {},
   "outputs": [
    {
     "name": "stdout",
     "output_type": "stream",
     "text": [
      "The length of the list is:: 5\n"
     ]
    }
   ],
   "source": [
    "list=[\"Ali\",\"Sana\",\"Iqra\",\"Anaya\",\"Alia\"];\n",
    "print(\"The length of the list is::\",len(list));"
   ]
  },
  {
   "cell_type": "code",
   "execution_count": 29,
   "metadata": {},
   "outputs": [
    {
     "name": "stdout",
     "output_type": "stream",
     "text": [
      "Sum of items in the list= 200\n"
     ]
    }
   ],
   "source": [
    "list=[10, 20,30,40];\n",
    "sum = 0\n",
    "for x in list:\n",
    "    sum=sum + x;\n",
    "print(\"Sum of items in the list=\",sum);"
   ]
  },
  {
   "cell_type": "code",
   "execution_count": 19,
   "metadata": {},
   "outputs": [
    {
     "name": "stdout",
     "output_type": "stream",
     "text": [
      "Sum of items in the list= 40\n"
     ]
    }
   ],
   "source": [
    "list=[10, 20,-130,40];\n",
    "print(\"Sum of items in the list=\",max(list));"
   ]
  },
  {
   "cell_type": "code",
   "execution_count": 20,
   "metadata": {},
   "outputs": [
    {
     "name": "stdout",
     "output_type": "stream",
     "text": [
      "1\n",
      "1\n",
      "2\n",
      "3\n"
     ]
    }
   ],
   "source": [
    "a=[1,1,2,3,5,8,13,21,34,55,89];\n",
    "for i in a:\n",
    "    if i< 5:\n",
    "        print(i);"
   ]
  }
 ],
 "metadata": {
  "kernelspec": {
   "display_name": "Python 3",
   "language": "python",
   "name": "python3"
  },
  "language_info": {
   "codemirror_mode": {
    "name": "ipython",
    "version": 3
   },
   "file_extension": ".py",
   "mimetype": "text/x-python",
   "name": "python",
   "nbconvert_exporter": "python",
   "pygments_lexer": "ipython3",
   "version": "3.8.3"
  }
 },
 "nbformat": 4,
 "nbformat_minor": 4
}
